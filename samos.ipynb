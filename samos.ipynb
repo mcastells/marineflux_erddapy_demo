{
 "cells": [
  {
   "attachments": {},
   "cell_type": "markdown",
   "metadata": {},
   "source": [
    "# Downloading SAMOS data from MarineFlux ERDDAP server"
   ]
  },
  {
   "cell_type": "code",
   "execution_count": 1,
   "metadata": {},
   "outputs": [
    {
     "name": "stdout",
     "output_type": "stream",
     "text": [
      "Requirement already satisfied: erddapy in /home/marc/miniconda3/envs/jupyter/lib/python3.11/site-packages (2.2.3)\n",
      "Requirement already satisfied: httpx>=0.25.0 in /home/marc/miniconda3/envs/jupyter/lib/python3.11/site-packages (from erddapy) (0.28.1)\n",
      "Requirement already satisfied: pandas<3,>=0.25.2 in /home/marc/miniconda3/envs/jupyter/lib/python3.11/site-packages (from erddapy) (2.2.3)\n",
      "Requirement already satisfied: pytz in /home/marc/miniconda3/envs/jupyter/lib/python3.11/site-packages (from erddapy) (2024.1)\n",
      "Requirement already satisfied: anyio in /home/marc/miniconda3/envs/jupyter/lib/python3.11/site-packages (from httpx>=0.25.0->erddapy) (4.8.0)\n",
      "Requirement already satisfied: certifi in /home/marc/miniconda3/envs/jupyter/lib/python3.11/site-packages (from httpx>=0.25.0->erddapy) (2024.12.14)\n",
      "Requirement already satisfied: httpcore==1.* in /home/marc/miniconda3/envs/jupyter/lib/python3.11/site-packages (from httpx>=0.25.0->erddapy) (1.0.7)\n",
      "Requirement already satisfied: idna in /home/marc/miniconda3/envs/jupyter/lib/python3.11/site-packages (from httpx>=0.25.0->erddapy) (3.10)\n",
      "Requirement already satisfied: h11<0.15,>=0.13 in /home/marc/miniconda3/envs/jupyter/lib/python3.11/site-packages (from httpcore==1.*->httpx>=0.25.0->erddapy) (0.14.0)\n",
      "Requirement already satisfied: numpy>=1.23.2 in /home/marc/miniconda3/envs/jupyter/lib/python3.11/site-packages (from pandas<3,>=0.25.2->erddapy) (1.26.4)\n",
      "Requirement already satisfied: python-dateutil>=2.8.2 in /home/marc/miniconda3/envs/jupyter/lib/python3.11/site-packages (from pandas<3,>=0.25.2->erddapy) (2.9.0.post0)\n",
      "Requirement already satisfied: tzdata>=2022.7 in /home/marc/miniconda3/envs/jupyter/lib/python3.11/site-packages (from pandas<3,>=0.25.2->erddapy) (2025.1)\n",
      "Requirement already satisfied: six>=1.5 in /home/marc/miniconda3/envs/jupyter/lib/python3.11/site-packages (from python-dateutil>=2.8.2->pandas<3,>=0.25.2->erddapy) (1.17.0)\n",
      "Requirement already satisfied: sniffio>=1.1 in /home/marc/miniconda3/envs/jupyter/lib/python3.11/site-packages (from anyio->httpx>=0.25.0->erddapy) (1.3.1)\n",
      "Requirement already satisfied: typing_extensions>=4.5 in /home/marc/miniconda3/envs/jupyter/lib/python3.11/site-packages (from anyio->httpx>=0.25.0->erddapy) (4.12.2)\n",
      "Note: you may need to restart the kernel to use updated packages.\n",
      "Requirement already satisfied: cf_xarray in /home/marc/miniconda3/envs/jupyter/lib/python3.11/site-packages (0.10.0)\n",
      "Requirement already satisfied: xarray>=2022.03.0 in /home/marc/miniconda3/envs/jupyter/lib/python3.11/site-packages (from cf_xarray) (2025.1.1)\n",
      "Requirement already satisfied: numpy>=1.24 in /home/marc/miniconda3/envs/jupyter/lib/python3.11/site-packages (from xarray>=2022.03.0->cf_xarray) (1.26.4)\n",
      "Requirement already satisfied: packaging>=23.2 in /home/marc/miniconda3/envs/jupyter/lib/python3.11/site-packages (from xarray>=2022.03.0->cf_xarray) (24.2)\n",
      "Requirement already satisfied: pandas>=2.1 in /home/marc/miniconda3/envs/jupyter/lib/python3.11/site-packages (from xarray>=2022.03.0->cf_xarray) (2.2.3)\n",
      "Requirement already satisfied: python-dateutil>=2.8.2 in /home/marc/miniconda3/envs/jupyter/lib/python3.11/site-packages (from pandas>=2.1->xarray>=2022.03.0->cf_xarray) (2.9.0.post0)\n",
      "Requirement already satisfied: pytz>=2020.1 in /home/marc/miniconda3/envs/jupyter/lib/python3.11/site-packages (from pandas>=2.1->xarray>=2022.03.0->cf_xarray) (2024.1)\n",
      "Requirement already satisfied: tzdata>=2022.7 in /home/marc/miniconda3/envs/jupyter/lib/python3.11/site-packages (from pandas>=2.1->xarray>=2022.03.0->cf_xarray) (2025.1)\n",
      "Requirement already satisfied: six>=1.5 in /home/marc/miniconda3/envs/jupyter/lib/python3.11/site-packages (from python-dateutil>=2.8.2->pandas>=2.1->xarray>=2022.03.0->cf_xarray) (1.17.0)\n",
      "Note: you may need to restart the kernel to use updated packages.\n",
      "Requirement already satisfied: netCDF4 in /home/marc/miniconda3/envs/jupyter/lib/python3.11/site-packages (1.6.5)\n",
      "Requirement already satisfied: cftime in /home/marc/miniconda3/envs/jupyter/lib/python3.11/site-packages (from netCDF4) (1.6.4)\n",
      "Requirement already satisfied: certifi in /home/marc/miniconda3/envs/jupyter/lib/python3.11/site-packages (from netCDF4) (2024.12.14)\n",
      "Requirement already satisfied: numpy in /home/marc/miniconda3/envs/jupyter/lib/python3.11/site-packages (from netCDF4) (1.26.4)\n",
      "Note: you may need to restart the kernel to use updated packages.\n",
      "Requirement already satisfied: cartopy in /home/marc/miniconda3/envs/jupyter/lib/python3.11/site-packages (0.24.0)\n",
      "Requirement already satisfied: numpy>=1.23 in /home/marc/miniconda3/envs/jupyter/lib/python3.11/site-packages (from cartopy) (1.26.4)\n",
      "Requirement already satisfied: matplotlib>=3.6 in /home/marc/miniconda3/envs/jupyter/lib/python3.11/site-packages (from cartopy) (3.10.0)\n",
      "Requirement already satisfied: shapely>=1.8 in /home/marc/miniconda3/envs/jupyter/lib/python3.11/site-packages (from cartopy) (2.0.6)\n",
      "Requirement already satisfied: packaging>=21 in /home/marc/miniconda3/envs/jupyter/lib/python3.11/site-packages (from cartopy) (24.2)\n",
      "Requirement already satisfied: pyshp>=2.3 in /home/marc/miniconda3/envs/jupyter/lib/python3.11/site-packages (from cartopy) (2.3.1)\n",
      "Requirement already satisfied: pyproj>=3.3.1 in /home/marc/miniconda3/envs/jupyter/lib/python3.11/site-packages (from cartopy) (3.6.1)\n",
      "Requirement already satisfied: contourpy>=1.0.1 in /home/marc/miniconda3/envs/jupyter/lib/python3.11/site-packages (from matplotlib>=3.6->cartopy) (1.3.1)\n",
      "Requirement already satisfied: cycler>=0.10 in /home/marc/miniconda3/envs/jupyter/lib/python3.11/site-packages (from matplotlib>=3.6->cartopy) (0.12.1)\n",
      "Requirement already satisfied: fonttools>=4.22.0 in /home/marc/miniconda3/envs/jupyter/lib/python3.11/site-packages (from matplotlib>=3.6->cartopy) (4.55.6)\n",
      "Requirement already satisfied: kiwisolver>=1.3.1 in /home/marc/miniconda3/envs/jupyter/lib/python3.11/site-packages (from matplotlib>=3.6->cartopy) (1.4.7)\n",
      "Requirement already satisfied: pillow>=8 in /home/marc/miniconda3/envs/jupyter/lib/python3.11/site-packages (from matplotlib>=3.6->cartopy) (11.0.0)\n",
      "Requirement already satisfied: pyparsing>=2.3.1 in /home/marc/miniconda3/envs/jupyter/lib/python3.11/site-packages (from matplotlib>=3.6->cartopy) (3.2.1)\n",
      "Requirement already satisfied: python-dateutil>=2.7 in /home/marc/miniconda3/envs/jupyter/lib/python3.11/site-packages (from matplotlib>=3.6->cartopy) (2.9.0.post0)\n",
      "Requirement already satisfied: certifi in /home/marc/miniconda3/envs/jupyter/lib/python3.11/site-packages (from pyproj>=3.3.1->cartopy) (2024.12.14)\n",
      "Requirement already satisfied: six>=1.5 in /home/marc/miniconda3/envs/jupyter/lib/python3.11/site-packages (from python-dateutil>=2.7->matplotlib>=3.6->cartopy) (1.17.0)\n",
      "Note: you may need to restart the kernel to use updated packages.\n"
     ]
    }
   ],
   "source": [
    "%pip install erddapy\n",
    "%pip install cf_xarray\n",
    "%pip install netCDF4\n",
    "%pip install cartopy\n",
    "\n",
    "from erddapy import ERDDAP\n",
    "import matplotlib.pyplot as plt\n",
    "import cartopy.crs as ccrs\n",
    "import numpy as np\n",
    "import numpy.ma as ma\n",
    "import cf_xarray"
   ]
  },
  {
   "attachments": {},
   "cell_type": "markdown",
   "metadata": {},
   "source": [
    "## Create the ERDDAP request"
   ]
  },
  {
   "cell_type": "code",
   "execution_count": 2,
   "metadata": {},
   "outputs": [],
   "source": [
    "flux_algorithms = [\"S88\", \"B23\", \"C36\"]\n",
    "extent = [280.0, 300.0, 30.0, 45.0] # [lon-, lon+, lat-, lat+]\n",
    "start_time = \"2015-11-01T00:00:00Z\"\n",
    "end_time = \"2015-12-01T00:00:00Z\""
   ]
  },
  {
   "cell_type": "code",
   "execution_count": 3,
   "metadata": {},
   "outputs": [],
   "source": [
    "erddap_samos = dict()\n",
    "for algo in flux_algorithms:\n",
    "  erddap_samos[algo] = ERDDAP(\n",
    "    server=\"http://marineflux-erddap.coaps.fsu.edu/erddap\",\n",
    "    protocol=\"tabledap\",\n",
    "  )\n",
    "\n",
    "  erddap_samos[algo].dataset_id = f\"SAMOS_Fluxes_{algo}\"\n",
    "  erddap_samos[algo].constraints = {\n",
    "      \"time>=\": start_time,\n",
    "      \"time<=\": end_time,\n",
    "      \"longitude>=\": extent[0],\n",
    "      \"longitude<=\": extent[1],\n",
    "      \"latitude>=\": extent[2],\n",
    "      \"latitude<=\": extent[3],\n",
    "  }\n",
    "  erddap_samos[algo].variables = [\n",
    "      \"platform_call_sign\",\n",
    "      \"platform_name\",\n",
    "      \"lhf\",\n",
    "      \"lhf_qc\",\n",
    "      \"shf\",\n",
    "      \"shf_qc\",\n",
    "      \"tau\",\n",
    "      \"tau_qc\"\n",
    "  ]"
   ]
  },
  {
   "attachments": {},
   "cell_type": "markdown",
   "metadata": {},
   "source": [
    "### URLs for ERDDAP request can be retrieved"
   ]
  },
  {
   "cell_type": "code",
   "execution_count": 4,
   "metadata": {},
   "outputs": [
    {
     "name": "stdout",
     "output_type": "stream",
     "text": [
      "Download S88 CSV: http://marineflux-erddap.coaps.fsu.edu/erddap/tabledap/SAMOS_Fluxes_S88.csv?platform_call_sign,platform_name,lhf,lhf_qc,shf,shf_qc,tau,tau_qc&time>=1420070400.0&time<=1422748800.0&longitude>=280.0&longitude<=300.0&latitude>=30.0&latitude<=45.0\n",
      "View S88 download form on ERDDAP server: http://marineflux-erddap.coaps.fsu.edu/erddap/tabledap/SAMOS_Fluxes_S88.html?platform_call_sign,platform_name,lhf,lhf_qc,shf,shf_qc,tau,tau_qc&time>=1420070400.0&time<=1422748800.0&longitude>=280.0&longitude<=300.0&latitude>=30.0&latitude<=45.0\n",
      "\n",
      "Download B23 CSV: http://marineflux-erddap.coaps.fsu.edu/erddap/tabledap/SAMOS_Fluxes_B23.csv?platform_call_sign,platform_name,lhf,lhf_qc,shf,shf_qc,tau,tau_qc&time>=1420070400.0&time<=1422748800.0&longitude>=280.0&longitude<=300.0&latitude>=30.0&latitude<=45.0\n",
      "View B23 download form on ERDDAP server: http://marineflux-erddap.coaps.fsu.edu/erddap/tabledap/SAMOS_Fluxes_B23.html?platform_call_sign,platform_name,lhf,lhf_qc,shf,shf_qc,tau,tau_qc&time>=1420070400.0&time<=1422748800.0&longitude>=280.0&longitude<=300.0&latitude>=30.0&latitude<=45.0\n",
      "\n",
      "Download C36 CSV: http://marineflux-erddap.coaps.fsu.edu/erddap/tabledap/SAMOS_Fluxes_C36.csv?platform_call_sign,platform_name,lhf,lhf_qc,shf,shf_qc,tau,tau_qc&time>=1420070400.0&time<=1422748800.0&longitude>=280.0&longitude<=300.0&latitude>=30.0&latitude<=45.0\n",
      "View C36 download form on ERDDAP server: http://marineflux-erddap.coaps.fsu.edu/erddap/tabledap/SAMOS_Fluxes_C36.html?platform_call_sign,platform_name,lhf,lhf_qc,shf,shf_qc,tau,tau_qc&time>=1420070400.0&time<=1422748800.0&longitude>=280.0&longitude<=300.0&latitude>=30.0&latitude<=45.0\n",
      "\n"
     ]
    }
   ],
   "source": [
    "for algo in flux_algorithms:\n",
    "    erddap_samos[algo].response = \"csv\"\n",
    "    print(f'Download {algo} CSV: {erddap_samos[algo].get_download_url()}')\n",
    "\n",
    "    erddap_samos[algo].response = \"html\"\n",
    "    print(f'View {algo} download form on ERDDAP server: {erddap_samos[algo].get_download_url()}\\n')"
   ]
  },
  {
   "attachments": {},
   "cell_type": "markdown",
   "metadata": {},
   "source": [
    "### Request data as CF compliant netCDF4-python object"
   ]
  },
  {
   "cell_type": "code",
   "execution_count": 5,
   "metadata": {},
   "outputs": [
    {
     "ename": "HTTPError",
     "evalue": "Error {\n    code=404;\n    message=\"Not Found: Your query produced no matching results. (nRows = 0)\";\n}\n",
     "output_type": "error",
     "traceback": [
      "\u001b[0;31m---------------------------------------------------------------------------\u001b[0m",
      "\u001b[0;31mHTTPStatusError\u001b[0m                           Traceback (most recent call last)",
      "File \u001b[0;32m~/miniconda3/envs/jupyter/lib/python3.11/site-packages/erddapy/core/url.py:71\u001b[0m, in \u001b[0;36m_urlopen\u001b[0;34m(url, auth, **kwargs)\u001b[0m\n\u001b[1;32m     70\u001b[0m \u001b[38;5;28;01mtry\u001b[39;00m:\n\u001b[0;32m---> 71\u001b[0m     \u001b[43mresponse\u001b[49m\u001b[38;5;241;43m.\u001b[39;49m\u001b[43mraise_for_status\u001b[49m\u001b[43m(\u001b[49m\u001b[43m)\u001b[49m\n\u001b[1;32m     72\u001b[0m \u001b[38;5;28;01mexcept\u001b[39;00m httpx\u001b[38;5;241m.\u001b[39mHTTPError \u001b[38;5;28;01mas\u001b[39;00m err:\n",
      "File \u001b[0;32m~/miniconda3/envs/jupyter/lib/python3.11/site-packages/httpx/_models.py:829\u001b[0m, in \u001b[0;36mResponse.raise_for_status\u001b[0;34m(self)\u001b[0m\n\u001b[1;32m    828\u001b[0m message \u001b[38;5;241m=\u001b[39m message\u001b[38;5;241m.\u001b[39mformat(\u001b[38;5;28mself\u001b[39m, error_type\u001b[38;5;241m=\u001b[39merror_type)\n\u001b[0;32m--> 829\u001b[0m \u001b[38;5;28;01mraise\u001b[39;00m HTTPStatusError(message, request\u001b[38;5;241m=\u001b[39mrequest, response\u001b[38;5;241m=\u001b[39m\u001b[38;5;28mself\u001b[39m)\n",
      "\u001b[0;31mHTTPStatusError\u001b[0m: Client error '404 404' for url 'https://erddap-samos.coaps.fsu.edu/erddap/tabledap/SAMOS_Fluxes_S88_v300.ncCF?platform_call_sign%2Cplatform_name%2Clhf%2Clhf_qc%2Cshf%2Cshf_qc%2Ctau%2Ctau_qc&time%3E=1420070400.0&time%3C=1422748800.0&longitude%3E=280.0&longitude%3C=300.0&latitude%3E=30.0&latitude%3C=45.0'\nFor more information check: https://developer.mozilla.org/en-US/docs/Web/HTTP/Status/404",
      "\nThe above exception was the direct cause of the following exception:\n",
      "\u001b[0;31mHTTPError\u001b[0m                                 Traceback (most recent call last)",
      "Cell \u001b[0;32mIn[5], line 4\u001b[0m\n\u001b[1;32m      1\u001b[0m nc \u001b[38;5;241m=\u001b[39m \u001b[38;5;28mdict\u001b[39m()\n\u001b[1;32m      3\u001b[0m \u001b[38;5;28;01mfor\u001b[39;00m algo \u001b[38;5;129;01min\u001b[39;00m flux_algorithms:\n\u001b[0;32m----> 4\u001b[0m     nc[algo] \u001b[38;5;241m=\u001b[39m \u001b[43merddap_samos\u001b[49m\u001b[43m[\u001b[49m\u001b[43malgo\u001b[49m\u001b[43m]\u001b[49m\u001b[38;5;241;43m.\u001b[39;49m\u001b[43mto_ncCF\u001b[49m\u001b[43m(\u001b[49m\u001b[43m)\u001b[49m\n\u001b[1;32m      6\u001b[0m     \u001b[38;5;28mprint\u001b[39m(nc[algo])\n",
      "File \u001b[0;32m~/miniconda3/envs/jupyter/lib/python3.11/site-packages/erddapy/erddapy.py:428\u001b[0m, in \u001b[0;36mERDDAP.to_ncCF\u001b[0;34m(self, protocol, **kw)\u001b[0m\n\u001b[1;32m    426\u001b[0m protocol \u001b[38;5;241m=\u001b[39m protocol \u001b[38;5;28;01mif\u001b[39;00m protocol \u001b[38;5;28;01melse\u001b[39;00m \u001b[38;5;28mself\u001b[39m\u001b[38;5;241m.\u001b[39mprotocol\n\u001b[1;32m    427\u001b[0m url \u001b[38;5;241m=\u001b[39m \u001b[38;5;28mself\u001b[39m\u001b[38;5;241m.\u001b[39mget_download_url(response\u001b[38;5;241m=\u001b[39m\u001b[38;5;124m\"\u001b[39m\u001b[38;5;124mncCF\u001b[39m\u001b[38;5;124m\"\u001b[39m, distinct\u001b[38;5;241m=\u001b[39mdistinct)\n\u001b[0;32m--> 428\u001b[0m \u001b[38;5;28;01mreturn\u001b[39;00m \u001b[43mto_ncCF\u001b[49m\u001b[43m(\u001b[49m\u001b[43murl\u001b[49m\u001b[43m,\u001b[49m\u001b[43m \u001b[49m\u001b[43mprotocol\u001b[49m\u001b[38;5;241;43m=\u001b[39;49m\u001b[43mprotocol\u001b[49m\u001b[43m,\u001b[49m\u001b[43m \u001b[49m\u001b[43mrequests_kwargs\u001b[49m\u001b[38;5;241;43m=\u001b[39;49m\u001b[38;5;28;43mdict\u001b[39;49m\u001b[43m(\u001b[49m\u001b[38;5;241;43m*\u001b[39;49m\u001b[38;5;241;43m*\u001b[39;49m\u001b[43mkw\u001b[49m\u001b[43m)\u001b[49m\u001b[43m)\u001b[49m\n",
      "File \u001b[0;32m~/miniconda3/envs/jupyter/lib/python3.11/site-packages/erddapy/core/interfaces.py:63\u001b[0m, in \u001b[0;36mto_ncCF\u001b[0;34m(url, protocol, requests_kwargs)\u001b[0m\n\u001b[1;32m     61\u001b[0m \u001b[38;5;28;01mif\u001b[39;00m protocol \u001b[38;5;241m==\u001b[39m \u001b[38;5;124m\"\u001b[39m\u001b[38;5;124mgriddap\u001b[39m\u001b[38;5;124m\"\u001b[39m:\n\u001b[1;32m     62\u001b[0m     \u001b[38;5;28;01mraise\u001b[39;00m \u001b[38;5;167;01mValueError\u001b[39;00m(msg)\n\u001b[0;32m---> 63\u001b[0m \u001b[38;5;28;01mreturn\u001b[39;00m \u001b[43m_nc_dataset\u001b[49m\u001b[43m(\u001b[49m\u001b[43murl\u001b[49m\u001b[43m,\u001b[49m\u001b[43m \u001b[49m\u001b[43mrequests_kwargs\u001b[49m\u001b[43m)\u001b[49m\n",
      "File \u001b[0;32m~/miniconda3/envs/jupyter/lib/python3.11/site-packages/erddapy/core/netcdf.py:29\u001b[0m, in \u001b[0;36m_nc_dataset\u001b[0;34m(url, requests_kwargs)\u001b[0m\n\u001b[1;32m     23\u001b[0m \u001b[38;5;250m\u001b[39m\u001b[38;5;124;03m\"\"\"Return a netCDF4-python Dataset from memory\u001b[39;00m\n\u001b[1;32m     24\u001b[0m \u001b[38;5;124;03mand fallbacks to disk if that fails.\u001b[39;00m\n\u001b[1;32m     25\u001b[0m \n\u001b[1;32m     26\u001b[0m \u001b[38;5;124;03m\"\"\"\u001b[39;00m\n\u001b[1;32m     27\u001b[0m \u001b[38;5;28;01mfrom\u001b[39;00m\u001b[38;5;250m \u001b[39m\u001b[38;5;21;01mnetCDF4\u001b[39;00m\u001b[38;5;250m \u001b[39m\u001b[38;5;28;01mimport\u001b[39;00m Dataset\n\u001b[0;32m---> 29\u001b[0m data \u001b[38;5;241m=\u001b[39m \u001b[43murlopen\u001b[49m\u001b[43m(\u001b[49m\u001b[43murl\u001b[49m\u001b[43m,\u001b[49m\u001b[43m \u001b[49m\u001b[43mrequests_kwargs\u001b[49m\u001b[43m)\u001b[49m\n\u001b[1;32m     30\u001b[0m \u001b[38;5;28;01mtry\u001b[39;00m:\n\u001b[1;32m     31\u001b[0m     \u001b[38;5;28;01mreturn\u001b[39;00m Dataset(Path(urlparse(url)\u001b[38;5;241m.\u001b[39mpath)\u001b[38;5;241m.\u001b[39mname, memory\u001b[38;5;241m=\u001b[39mdata\u001b[38;5;241m.\u001b[39mread())\n",
      "File \u001b[0;32m~/miniconda3/envs/jupyter/lib/python3.11/site-packages/erddapy/core/url.py:89\u001b[0m, in \u001b[0;36murlopen\u001b[0;34m(url, requests_kwargs)\u001b[0m\n\u001b[1;32m     87\u001b[0m \u001b[38;5;28;01mif\u001b[39;00m requests_kwargs \u001b[38;5;129;01mis\u001b[39;00m \u001b[38;5;28;01mNone\u001b[39;00m:\n\u001b[1;32m     88\u001b[0m     requests_kwargs \u001b[38;5;241m=\u001b[39m {}\n\u001b[0;32m---> 89\u001b[0m data \u001b[38;5;241m=\u001b[39m \u001b[43m_urlopen\u001b[49m\u001b[43m(\u001b[49m\u001b[43murl\u001b[49m\u001b[43m,\u001b[49m\u001b[43m \u001b[49m\u001b[38;5;241;43m*\u001b[39;49m\u001b[38;5;241;43m*\u001b[39;49m\u001b[43mrequests_kwargs\u001b[49m\u001b[43m)\u001b[49m\n\u001b[1;32m     90\u001b[0m data\u001b[38;5;241m.\u001b[39mseek(\u001b[38;5;241m0\u001b[39m)\n\u001b[1;32m     91\u001b[0m \u001b[38;5;28;01mreturn\u001b[39;00m data\n",
      "File \u001b[0;32m~/miniconda3/envs/jupyter/lib/python3.11/site-packages/erddapy/core/url.py:74\u001b[0m, in \u001b[0;36m_urlopen\u001b[0;34m(url, auth, **kwargs)\u001b[0m\n\u001b[1;32m     72\u001b[0m \u001b[38;5;28;01mexcept\u001b[39;00m httpx\u001b[38;5;241m.\u001b[39mHTTPError \u001b[38;5;28;01mas\u001b[39;00m err:\n\u001b[1;32m     73\u001b[0m     msg \u001b[38;5;241m=\u001b[39m \u001b[38;5;124mf\u001b[39m\u001b[38;5;124m\"\u001b[39m\u001b[38;5;132;01m{\u001b[39;00mresponse\u001b[38;5;241m.\u001b[39mcontent\u001b[38;5;241m.\u001b[39mdecode()\u001b[38;5;132;01m}\u001b[39;00m\u001b[38;5;124m\"\u001b[39m\n\u001b[0;32m---> 74\u001b[0m     \u001b[38;5;28;01mraise\u001b[39;00m httpx\u001b[38;5;241m.\u001b[39mHTTPError(msg) \u001b[38;5;28;01mfrom\u001b[39;00m\u001b[38;5;250m \u001b[39m\u001b[38;5;21;01merr\u001b[39;00m\n\u001b[1;32m     75\u001b[0m \u001b[38;5;28;01mreturn\u001b[39;00m io\u001b[38;5;241m.\u001b[39mBytesIO(response\u001b[38;5;241m.\u001b[39mcontent)\n",
      "\u001b[0;31mHTTPError\u001b[0m: Error {\n    code=404;\n    message=\"Not Found: Your query produced no matching results. (nRows = 0)\";\n}\n"
     ]
    }
   ],
   "source": [
    "nc = dict()\n",
    "\n",
    "for algo in flux_algorithms:\n",
    "    nc[algo] = erddap_samos[algo].to_ncCF()\n",
    "\n",
    "    print(nc[algo])"
   ]
  },
  {
   "attachments": {},
   "cell_type": "markdown",
   "metadata": {},
   "source": [
    "## Request data as pandas DataFrame"
   ]
  },
  {
   "cell_type": "code",
   "execution_count": null,
   "metadata": {},
   "outputs": [],
   "source": [
    "df = dict()\n",
    "\n",
    "for algo in flux_algorithms:\n",
    "    df[algo] = erddap_samos[algo].to_pandas()\n",
    "\n",
    "    print(df[algo])"
   ]
  },
  {
   "attachments": {},
   "cell_type": "markdown",
   "metadata": {},
   "source": [
    "## Request data as xarray Dataset"
   ]
  },
  {
   "cell_type": "code",
   "execution_count": null,
   "metadata": {},
   "outputs": [],
   "source": [
    "ds = dict()\n",
    "\n",
    "for algo in flux_algorithms:\n",
    "    ds[algo] = erddap_samos[algo].to_xarray(requests_kwargs={\"timeout\": 600})\n",
    "\n",
    "    print(ds[algo])"
   ]
  },
  {
   "cell_type": "markdown",
   "metadata": {},
   "source": [
    "### Show which vessels are present in this subset"
   ]
  },
  {
   "cell_type": "code",
   "execution_count": null,
   "metadata": {},
   "outputs": [],
   "source": [
    "print('\\n'.join(map(str,list(set(zip(ds['C36']['platform_name'].data,ds['C36']['platform_call_sign'].data))))))"
   ]
  },
  {
   "cell_type": "markdown",
   "metadata": {},
   "source": [
    "### Filter out data not flagged as \"good\""
   ]
  },
  {
   "cell_type": "code",
   "execution_count": 9,
   "metadata": {},
   "outputs": [],
   "source": [
    "vars = ['lhf', 'shf', 'tau']\n",
    "\n",
    "for var in vars:\n",
    "    \n",
    "    for algo in flux_algorithms:\n",
    "\n",
    "        if f'{var}_qc' in ds[algo]:\n",
    "            good_indices = np.where((ds[algo][f'{var}_qc'].cf == 'good') == True)[0]\n",
    "            mask = np.zeros(len(ds[algo][f'{var}'].data), dtype=bool)\n",
    "            mask[good_indices] = True\n",
    "            ds[algo][var].data[~mask] = np.nan\n",
    "        "
   ]
  },
  {
   "attachments": {},
   "cell_type": "markdown",
   "metadata": {},
   "source": [
    "### Latent heat flux plotted as a function of time"
   ]
  },
  {
   "cell_type": "code",
   "execution_count": null,
   "metadata": {},
   "outputs": [],
   "source": [
    "for algo in flux_algorithms:\n",
    "    ds[algo]['lhf'].plot(x='time')"
   ]
  },
  {
   "attachments": {},
   "cell_type": "markdown",
   "metadata": {},
   "source": [
    "### Sensible and latent heat fluxes plotted on a map"
   ]
  },
  {
   "cell_type": "code",
   "execution_count": 11,
   "metadata": {},
   "outputs": [],
   "source": [
    "def plot_shared_colorbar(dataset, vars, cmap='bwr', diverging=True, sort=False):\n",
    "    height = 4\n",
    "    figsize = (len(vars) * height, height)\n",
    "    fig = plt.figure(figsize=figsize, layout='constrained')\n",
    "    fig.suptitle(dataset.title)\n",
    "\n",
    "    projection = ccrs.PlateCarree()\n",
    "\n",
    "    ax_dict = fig.subplot_mosaic(\n",
    "        [\n",
    "            vars,\n",
    "            ['cbar' for var in vars]\n",
    "        ],\n",
    "        height_ratios=[20, 1],\n",
    "        per_subplot_kw={\n",
    "            tuple(vars): {'projection': projection}\n",
    "        }\n",
    "    )\n",
    "\n",
    "    vmax = -1\n",
    "    for var in vars:\n",
    "        ax_dict[var].set_extent(extent, crs=projection)\n",
    "        ax_dict[var].stock_img()\n",
    "        ax_dict[var].coastlines()\n",
    "        ax_dict[var].set_title(f'{dataset[var].long_name} ({dataset[var].units})')\n",
    "\n",
    "        vmax = max(vmax, ma.max(abs(ma.masked_invalid(ds[algo][var]))))\n",
    "\n",
    "    if diverging:\n",
    "        vmin = -vmax\n",
    "    else:\n",
    "        vmin = 0\n",
    "\n",
    "    scatter = []\n",
    "    for var in vars:\n",
    "        # sorting the DataArray before plotting makes the higher values show up on top. this is useful for seeing where the high values are, but obscures the negative values.\n",
    "        if sort:\n",
    "            da = dataset[var].sortby(dataset[var])\n",
    "        else:\n",
    "            da = dataset[var]\n",
    "        scatter.append(ax_dict[var].scatter(x=da['longitude'], y=da['latitude'], c=da, cmap=cmap, vmin=vmin, vmax=vmax))\n",
    "\n",
    "    cbar = plt.colorbar(scatter[0], cax=ax_dict['cbar'], orientation='horizontal')"
   ]
  },
  {
   "cell_type": "code",
   "execution_count": null,
   "metadata": {},
   "outputs": [],
   "source": [
    "for algo in flux_algorithms:\n",
    "    plot_shared_colorbar(ds[algo], ['shf', 'lhf'], sort=True)"
   ]
  },
  {
   "cell_type": "code",
   "execution_count": null,
   "metadata": {},
   "outputs": [],
   "source": [
    "for algo in flux_algorithms:\n",
    "    plot_shared_colorbar(ds[algo], ['tau'], cmap='viridis', diverging=False, sort=True)"
   ]
  },
  {
   "cell_type": "code",
   "execution_count": 14,
   "metadata": {},
   "outputs": [],
   "source": [
    "def plot_dataset_comparison(datasets, var, sort=False, cmap='bwr', diverging=True):\n",
    "    keys = list(datasets.keys())\n",
    "    height = 4\n",
    "    figsize = (len(datasets) * height, height)\n",
    "    fig = plt.figure(figsize=figsize, layout='constrained')\n",
    "    fig.suptitle(f'{ds[keys[0]][var].long_name} ({ds[keys[0]][var].units})')\n",
    "\n",
    "    projection = ccrs.PlateCarree()\n",
    "\n",
    "    ax_dict = fig.subplot_mosaic(\n",
    "        [\n",
    "            [algo for algo in keys],\n",
    "            ['cbar' for algo in keys]\n",
    "        ],\n",
    "        height_ratios=[20, 1],\n",
    "        per_subplot_kw={\n",
    "            tuple(algo for algo in keys): {'projection': projection}\n",
    "        }\n",
    "    )\n",
    "\n",
    "    vmax = -1\n",
    "    for algo in keys:\n",
    "            \n",
    "        ax_dict[algo].set_extent(extent, crs=projection)\n",
    "        ax_dict[algo].stock_img()\n",
    "        ax_dict[algo].coastlines()\n",
    "        ax_dict[algo].set_title(f'{datasets[algo][var].long_name} ({datasets[algo][var].units})')\n",
    "\n",
    "        vmax = max(vmax, ma.max(abs(ma.masked_invalid(datasets[algo][var]))))\n",
    "\n",
    "        ax_dict[algo].set_title(datasets[algo].title)\n",
    "\n",
    "    if diverging:\n",
    "        vmin = -vmax\n",
    "    else:\n",
    "        vmin = 0\n",
    "\n",
    "    scatter = []\n",
    "    for algo in keys:\n",
    "        # sorting the DataArray before plotting makes the higher values show up on top. this is useful for seeing where the high values are, but obscures the negative values.\n",
    "        if sort:\n",
    "            da = datasets[algo][var].sortby(datasets[algo][var])\n",
    "        else:\n",
    "            da = datasets[algo][var]\n",
    "        scatter.append(ax_dict[algo].scatter(x=da['longitude'], y=da['latitude'], c=da, cmap=cmap, vmin=vmin, vmax=vmax))\n",
    "\n",
    "    cbar = plt.colorbar(scatter[0], cax=ax_dict['cbar'], orientation='horizontal')"
   ]
  },
  {
   "cell_type": "code",
   "execution_count": null,
   "metadata": {},
   "outputs": [],
   "source": [
    "plot_dataset_comparison(ds, 'lhf', sort=True)"
   ]
  },
  {
   "cell_type": "code",
   "execution_count": null,
   "metadata": {},
   "outputs": [],
   "source": [
    "plot_dataset_comparison(ds, 'tau', cmap='viridis', diverging=False, sort=True)"
   ]
  }
 ],
 "metadata": {
  "kernelspec": {
   "display_name": "jupyter",
   "language": "python",
   "name": "python3"
  },
  "language_info": {
   "codemirror_mode": {
    "name": "ipython",
    "version": 3
   },
   "file_extension": ".py",
   "mimetype": "text/x-python",
   "name": "python",
   "nbconvert_exporter": "python",
   "pygments_lexer": "ipython3",
   "version": "3.11.0"
  },
  "orig_nbformat": 4
 },
 "nbformat": 4,
 "nbformat_minor": 2
}
